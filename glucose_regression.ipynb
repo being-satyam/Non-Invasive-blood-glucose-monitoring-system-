{
 "cells": [
  {
   "cell_type": "code",
   "execution_count": null,
   "metadata": {
    "vscode": {
     "languageId": "plaintext"
    }
   },
   "outputs": [],
   "source": [
    "import pandas as pd\n",
    "from sklearn.linear_model import LinearRegression\n",
    "import matplotlib.pyplot as plt\n",
    "\n",
    "# Load the dataset\n",
    "file_path = \"glucose_values.csv\"  # Update the path if needed\n",
    "data = pd.read_csv(file_path)\n",
    "\n",
    "# Define a function to calculate the slope and intercept for each time period\n",
    "def linear_regression_for_time_period(glucose_column, voltage_column):\n",
    "    # Features (Voltage) and target (Glucose)\n",
    "    X = data[voltage_column].values.reshape(-1, 1)\n",
    "    y = data[glucose_column]\n",
    "\n",
    "    # Create and train the linear regression model\n",
    "    model = LinearRegression()\n",
    "    model.fit(X, y)\n",
    "\n",
    "    # Extract slope and intercept\n",
    "    slope = model.coef_[0]\n",
    "    intercept = model.intercept_\n",
    "\n",
    "    return slope, intercept\n",
    "\n",
    "# Perform regression for each time period\n",
    "time_periods = [\"Morning\", \"Afternoon\", \"Evening\", \"Night\"]\n",
    "slope_intercept = {}\n",
    "\n",
    "for period in time_periods:\n",
    "    \n",
    "    glucose_column = f\"{period} Glucose\"\n",
    "    voltage_column = f\"{period} Voltage\"\n",
    "    \n",
    "   \n",
    "    slope, intercept = linear_regression_for_time_period(glucose_column, voltage_column)\n",
    "    slope_intercept[period] = {\"slope\": slope, \"intercept\": intercept}\n",
    "    print(f\"{period} - Slope: {slope}, Intercept: {intercept}\")\n",
    "\n",
    "    \n",
    "    X = data[voltage_column].values.reshape(-1, 1)\n",
    "    y = data[glucose_column]\n",
    "    y_pred = slope * X + intercept\n",
    "\n",
    "    plt.figure(figsize=(8, 6))\n",
    "    plt.scatter(data[voltage_column], y, color=\"blue\", alpha=0.7, label=\"Actual\")\n",
    "    plt.plot(data[voltage_column], y_pred, color=\"red\", label=\"Regression Line\")\n",
    "    plt.title(f\"Actual vs Predicted for {period}\")\n",
    "    plt.xlabel(\"Voltage (mV)\")\n",
    "    plt.ylabel(\"Glucose (mg/dL)\")\n",
    "    plt.legend()\n",
    "    plt.grid(True)\n",
    "    plt.show()\n",
    "\n",
    "# Example: Predicting glucose values for a specific voltage (e.g., 1.0 mV)\n",
    "voltage_input = 1.0\n",
    "for period in time_periods:\n",
    "    slope = slope_intercept[period][\"slope\"]\n",
    "    intercept = slope_intercept[period][\"intercept\"]\n",
    "    predicted_glucose = slope * voltage_input + intercept\n",
    "    print(f\"Predicted Glucose for {period} at Voltage {voltage_input} mV: {predicted_glucose}\")"
   ]
  },
  {
   "cell_type": "code",
   "execution_count": null,
   "metadata": {
    "vscode": {
     "languageId": "plaintext"
    }
   },
   "outputs": [],
   "source": []
  }
 ],
 "metadata": {
  "language_info": {
   "name": "python"
  }
 },
 "nbformat": 4,
 "nbformat_minor": 2
}
